{
 "cells": [
  {
   "cell_type": "code",
   "execution_count": 12,
   "metadata": {},
   "outputs": [
    {
     "name": "stdout",
     "output_type": "stream",
     "text": [
      "Number of Coils:  20.0\n",
      "Radius of Coil Structure: 0.006 m or 6.0 mm\n",
      "Radius of Coil: 0.001 m or 1.0 mm\n",
      "Height of Coil: 0.2 m or 200.0 mm\n",
      "Number of vertices:  640.0 or Half-vertices: 320.0\n",
      "Degree Rotation: 7200.0 Degrees\n"
     ]
    }
   ],
   "source": [
    "dc=6.0\n",
    "dw=1.0\n",
    "s=9.0\n",
    "h=200.0\n",
    "n=h/(s+dw)\n",
    "\n",
    "v=32\n",
    "vertices=n*v\n",
    "\n",
    "print(\"Number of Coils: \",n)\n",
    "print(\"Radius of Coil Structure:\",dc*(1/1000),\"m or\", dc,\"mm\")\n",
    "print(\"Radius of Coil:\",dw*(1/1000),\"m or\", dw,\"mm\")\n",
    "print(\"Height of Coil:\",h*(1/1000),\"m or\", h,\"mm\")\n",
    "print(\"Number of vertices: \",vertices,\"or Half-vertices:\",vertices/2)\n",
    "print(\"Degree Rotation:\",n*360,\"Degrees\")"
   ]
  }
 ],
 "metadata": {
  "kernelspec": {
   "display_name": "Python 3",
   "language": "python",
   "name": "python3"
  },
  "language_info": {
   "codemirror_mode": {
    "name": "ipython",
    "version": 3
   },
   "file_extension": ".py",
   "mimetype": "text/x-python",
   "name": "python",
   "nbconvert_exporter": "python",
   "pygments_lexer": "ipython3",
   "version": "3.10.6"
  },
  "orig_nbformat": 4,
  "vscode": {
   "interpreter": {
    "hash": "916dbcbb3f70747c44a77c7bcd40155683ae19c65e1c03b4aa3499c5328201f1"
   }
  }
 },
 "nbformat": 4,
 "nbformat_minor": 2
}
